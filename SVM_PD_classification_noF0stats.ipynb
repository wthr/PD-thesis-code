{
  "cells": [
    {
      "cell_type": "code",
      "execution_count": null,
      "metadata": {
        "colab": {
          "base_uri": "https://localhost:8080/"
        },
        "id": "DxjLLp__R6Sk",
        "outputId": "d8ccd4a6-9b29-4d3f-97af-908b266868bd"
      },
      "outputs": [
        {
          "output_type": "stream",
          "name": "stdout",
          "text": [
            "Looking in indexes: https://pypi.org/simple, https://us-python.pkg.dev/colab-wheels/public/simple/\n",
            "Collecting praat-parselmouth\n",
            "  Downloading praat_parselmouth-0.4.2-cp37-cp37m-manylinux_2_12_x86_64.manylinux2010_x86_64.whl (10.7 MB)\n",
            "\u001b[K     |████████████████████████████████| 10.7 MB 4.7 MB/s \n",
            "\u001b[?25hRequirement already satisfied: numpy>=1.7.0 in /usr/local/lib/python3.7/dist-packages (from praat-parselmouth) (1.21.6)\n",
            "Installing collected packages: praat-parselmouth\n",
            "Successfully installed praat-parselmouth-0.4.2\n"
          ]
        }
      ],
      "source": [
        "!pip install praat-parselmouth"
      ]
    },
    {
      "cell_type": "code",
      "execution_count": null,
      "metadata": {
        "id": "_lWKObfoR_-l"
      },
      "outputs": [],
      "source": [
        "import glob\n",
        "import numpy as np\n",
        "import pandas as pd\n",
        "import parselmouth\n",
        "\n",
        "from parselmouth.praat import call\n",
        "from sklearn.decomposition import PCA\n",
        "from sklearn.preprocessing import StandardScaler"
      ]
    },
    {
      "cell_type": "code",
      "execution_count": null,
      "metadata": {
        "id": "atRD1MPoSBfl"
      },
      "outputs": [],
      "source": [
        "# This is the function to measure voice pitch\n",
        "def measurePitch(voiceID, f0min, f0max, unit):\n",
        "    sound = parselmouth.Sound(voiceID) # read the sound\n",
        "    pitch = call(sound, \"To Pitch\", 0.0, f0min, f0max) #create a praat pitch object\n",
        "    meanF0 = call(pitch, \"Get mean\", 0, 0, unit) # get mean pitch\n",
        "    stdevF0 = call(pitch, \"Get standard deviation\", 0 ,0, unit) # get standard deviation\n",
        "    harmonicity = call(sound, \"To Harmonicity (cc)\", 0.01, 75, 0.1, 1.0)\n",
        "    hnr = call(harmonicity, \"Get mean\", 0, 0)\n",
        "    pointProcess = call(sound, \"To PointProcess (periodic, cc)\", f0min, f0max)\n",
        "    localJitter = call(pointProcess, \"Get jitter (local)\", 0, 0, 0.0001, 0.02, 1.3)\n",
        "    localabsoluteJitter = call(pointProcess, \"Get jitter (local, absolute)\", 0, 0, 0.0001, 0.02, 1.3)\n",
        "    rapJitter = call(pointProcess, \"Get jitter (rap)\", 0, 0, 0.0001, 0.02, 1.3)\n",
        "    ppq5Jitter = call(pointProcess, \"Get jitter (ppq5)\", 0, 0, 0.0001, 0.02, 1.3)\n",
        "    ddpJitter = call(pointProcess, \"Get jitter (ddp)\", 0, 0, 0.0001, 0.02, 1.3)\n",
        "    localShimmer =  call([sound, pointProcess], \"Get shimmer (local)\", 0, 0, 0.0001, 0.02, 1.3, 1.6)\n",
        "    localdbShimmer = call([sound, pointProcess], \"Get shimmer (local_dB)\", 0, 0, 0.0001, 0.02, 1.3, 1.6)\n",
        "    apq3Shimmer = call([sound, pointProcess], \"Get shimmer (apq3)\", 0, 0, 0.0001, 0.02, 1.3, 1.6)\n",
        "    aqpq5Shimmer = call([sound, pointProcess], \"Get shimmer (apq5)\", 0, 0, 0.0001, 0.02, 1.3, 1.6)\n",
        "    apq11Shimmer =  call([sound, pointProcess], \"Get shimmer (apq11)\", 0, 0, 0.0001, 0.02, 1.3, 1.6)\n",
        "    ddaShimmer = call([sound, pointProcess], \"Get shimmer (dda)\", 0, 0, 0.0001, 0.02, 1.3, 1.6)\n",
        "    \n",
        "\n",
        "    return meanF0, stdevF0, hnr, localJitter, localabsoluteJitter, rapJitter, ppq5Jitter, ddpJitter, localShimmer, localdbShimmer, apq3Shimmer, aqpq5Shimmer, apq11Shimmer, ddaShimmer"
      ]
    },
    {
      "cell_type": "code",
      "execution_count": null,
      "metadata": {
        "id": "ABcPzPbnSKi-"
      },
      "outputs": [],
      "source": [
        "def runPCA(df):\n",
        "    #Z-score the Jitter and Shimmer measurements\n",
        "    features = ['localJitter', 'localabsoluteJitter', 'rapJitter', 'ppq5Jitter', 'ddpJitter',\n",
        "                'localShimmer', 'localdbShimmer', 'apq3Shimmer', 'apq5Shimmer', 'apq11Shimmer', 'ddaShimmer']\n",
        "    # Separating out the features\n",
        "    x = df.loc[:, features].values\n",
        "    # Separating out the target\n",
        "    #y = df.loc[:,['target']].values\n",
        "    # Standardizing the features\n",
        "    x = StandardScaler().fit_transform(x)\n",
        "    x = x[~np.isnan(x).any(axis=1), :]\n",
        "    #PCA\n",
        "    pca = PCA(n_components=2)\n",
        "    principalComponents = pca.fit_transform(x)\n",
        "    principalDf = pd.DataFrame(data = principalComponents, columns = ['JitterPCA', 'ShimmerPCA'])\n",
        "    principalDf\n",
        "    return principalDf"
      ]
    },
    {
      "cell_type": "code",
      "execution_count": null,
      "metadata": {
        "colab": {
          "base_uri": "https://localhost:8080/"
        },
        "id": "UYna3VdFSXrX",
        "outputId": "1d2a60c5-edaa-4ee6-f068-af7180f2dc92"
      },
      "outputs": [
        {
          "output_type": "stream",
          "name": "stdout",
          "text": [
            "Mounted at /content/drive\n"
          ]
        }
      ],
      "source": [
        "from google.colab import drive\n",
        "drive.mount('/content/drive')"
      ]
    },
    {
      "cell_type": "code",
      "execution_count": null,
      "metadata": {
        "id": "z6sEggwa2D_I"
      },
      "outputs": [],
      "source": [
        "# create svm classifier with and without PCA"
      ]
    },
    {
      "cell_type": "code",
      "execution_count": null,
      "metadata": {
        "id": "v6HPtpk9uNeN"
      },
      "outputs": [],
      "source": [
        "def create_voice_df_pd(path, csv_name):\n",
        "\n",
        "  mean_F0_list = []\n",
        "  sd_F0_list = []\n",
        "  hnr_list = []\n",
        "  localJitter_list = []\n",
        "  localabsoluteJitter_list = []\n",
        "  rapJitter_list = []\n",
        "  ppq5Jitter_list = []\n",
        "  ddpJitter_list = []\n",
        "  localShimmer_list = []\n",
        "  localdbShimmer_list = []\n",
        "  apq3Shimmer_list = []\n",
        "  aqpq5Shimmer_list = []\n",
        "  apq11Shimmer_list = []\n",
        "  ddaShimmer_list = []\n",
        "  class_list = []\n",
        "\n",
        "  for wave_file in glob.glob(path):\n",
        "      sound = parselmouth.Sound(wave_file)\n",
        "      (meanF0, stdevF0, hnr, localJitter, localabsoluteJitter, \n",
        "      rapJitter, ppq5Jitter, ddpJitter, localShimmer, localdbShimmer, \n",
        "      apq3Shimmer, aqpq5Shimmer, apq11Shimmer, ddaShimmer) = measurePitch(sound, 75, 500, \"Hertz\")\n",
        "      class_list.append(1)\n",
        "      mean_F0_list.append(meanF0) # make a mean F0 list\n",
        "      sd_F0_list.append(stdevF0) # make a sd F0 list\n",
        "      hnr_list.append(hnr)\n",
        "      localJitter_list.append(localJitter)\n",
        "      localabsoluteJitter_list.append(localabsoluteJitter)\n",
        "      rapJitter_list.append(rapJitter)\n",
        "      ppq5Jitter_list.append(ppq5Jitter)\n",
        "      ddpJitter_list.append(ddpJitter)\n",
        "      localShimmer_list.append(localShimmer)\n",
        "      localdbShimmer_list.append(localdbShimmer)\n",
        "      apq3Shimmer_list.append(apq3Shimmer)\n",
        "      aqpq5Shimmer_list.append(aqpq5Shimmer)\n",
        "      apq11Shimmer_list.append(apq11Shimmer)\n",
        "      ddaShimmer_list.append(ddaShimmer)\n",
        "      \n",
        "\n",
        "  col = ['class','meanF0Hz', 'stdevF0Hz', 'HNR', 'localJitter', 'localabsoluteJitter', 'rapJitter', \n",
        "                                        'ppq5Jitter', 'ddpJitter', 'localShimmer', 'localdbShimmer', 'apq3Shimmer', 'apq5Shimmer', \n",
        "                                        'apq11Shimmer', 'ddaShimmer']\n",
        "\n",
        "  df = pd.DataFrame(np.column_stack([class_list, mean_F0_list, sd_F0_list, hnr_list, localJitter_list, \n",
        "                                   localabsoluteJitter_list, rapJitter_list, ppq5Jitter_list, ddpJitter_list, \n",
        "                                   localShimmer_list, localdbShimmer_list, apq3Shimmer_list, aqpq5Shimmer_list, \n",
        "                                   apq11Shimmer_list, ddaShimmer_list]),\n",
        "                               columns= col)  #add these lists to pandas in the right order\n",
        "  \n",
        "\n",
        "  pcaData = runPCA(df)\n",
        "\n",
        "  for column in col:\n",
        "    df[column] = df[column].astype(float)\n",
        "\n",
        "  df = pd.concat([df, pcaData], axis=1)\n",
        "\n",
        "  # Write out the updated dataframe\n",
        "  df.to_csv(csv_name, index=False)"
      ]
    },
    {
      "cell_type": "code",
      "execution_count": null,
      "metadata": {
        "id": "aAY24NaU82g4"
      },
      "outputs": [],
      "source": [
        "def create_voice_df_control(path, csv_name):\n",
        "\n",
        "  mean_F0_list = []\n",
        "  sd_F0_list = []\n",
        "  hnr_list = []\n",
        "  localJitter_list = []\n",
        "  localabsoluteJitter_list = []\n",
        "  rapJitter_list = []\n",
        "  ppq5Jitter_list = []\n",
        "  ddpJitter_list = []\n",
        "  localShimmer_list = []\n",
        "  localdbShimmer_list = []\n",
        "  apq3Shimmer_list = []\n",
        "  aqpq5Shimmer_list = []\n",
        "  apq11Shimmer_list = []\n",
        "  ddaShimmer_list = []\n",
        "  class_list = []\n",
        "\n",
        "  for wave_file in glob.glob(path):\n",
        "      sound = parselmouth.Sound(wave_file)\n",
        "      (meanF0, stdevF0, hnr, localJitter, localabsoluteJitter, \n",
        "      rapJitter, ppq5Jitter, ddpJitter, localShimmer, localdbShimmer, \n",
        "      apq3Shimmer, aqpq5Shimmer, apq11Shimmer, ddaShimmer) = measurePitch(sound, 75, 500, \"Hertz\")\n",
        "      class_list.append(0)\n",
        "      mean_F0_list.append(meanF0) # make a mean F0 list\n",
        "      sd_F0_list.append(stdevF0) # make a sd F0 list\n",
        "      hnr_list.append(hnr)\n",
        "      localJitter_list.append(localJitter)\n",
        "      localabsoluteJitter_list.append(localabsoluteJitter)\n",
        "      rapJitter_list.append(rapJitter)\n",
        "      ppq5Jitter_list.append(ppq5Jitter)\n",
        "      ddpJitter_list.append(ddpJitter)\n",
        "      localShimmer_list.append(localShimmer)\n",
        "      localdbShimmer_list.append(localdbShimmer)\n",
        "      apq3Shimmer_list.append(apq3Shimmer)\n",
        "      aqpq5Shimmer_list.append(aqpq5Shimmer)\n",
        "      apq11Shimmer_list.append(apq11Shimmer)\n",
        "      ddaShimmer_list.append(ddaShimmer)\n",
        "      \n",
        "\n",
        "  col = ['class','meanF0Hz', 'stdevF0Hz', 'HNR', 'localJitter', 'localabsoluteJitter', 'rapJitter', \n",
        "                                        'ppq5Jitter', 'ddpJitter', 'localShimmer', 'localdbShimmer', 'apq3Shimmer', 'apq5Shimmer', \n",
        "                                        'apq11Shimmer', 'ddaShimmer']\n",
        "\n",
        "  df = pd.DataFrame(np.column_stack([class_list, mean_F0_list, sd_F0_list, hnr_list, localJitter_list, \n",
        "                                   localabsoluteJitter_list, rapJitter_list, ppq5Jitter_list, ddpJitter_list, \n",
        "                                   localShimmer_list, localdbShimmer_list, apq3Shimmer_list, aqpq5Shimmer_list, \n",
        "                                   apq11Shimmer_list, ddaShimmer_list]),\n",
        "                               columns= col)  #add these lists to pandas in the right order\n",
        "  \n",
        "\n",
        "  pcaData = runPCA(df)\n",
        "\n",
        "  for column in col:\n",
        "    df[column] = df[column].astype(float)\n",
        "\n",
        "  df = pd.concat([df, pcaData], axis=1)\n",
        "\n",
        "  # Write out the updated dataframe\n",
        "  df.to_csv(csv_name, index=False)"
      ]
    },
    {
      "cell_type": "code",
      "execution_count": null,
      "metadata": {
        "id": "009iROGBvFlM"
      },
      "outputs": [],
      "source": [
        "create_voice_df_pd(\"/content/drive/MyDrive/pd thesis/Voice Dataset PD/PD_Ahh/train_pd/*.wav\",\"processed_results_pd_train.csv\")\n",
        "create_voice_df_pd(\"/content/drive/MyDrive/pd thesis/Voice Dataset PD/PD_Ahh/test_pd/*.wav\",\"processed_results_pd_test.csv\")\n",
        "create_voice_df_pd(\"/content/drive/MyDrive/pd thesis/Voice Dataset PD/PD_Ahh/val_pd/*.wav\",\"processed_results_pd_val.csv\")\n",
        "create_voice_df_control(\"/content/drive/MyDrive/pd thesis/Voice Dataset PD/Control_Ahh/train_control/*.wav\",\"processed_results_control_train.csv\")\n",
        "create_voice_df_control(\"/content/drive/MyDrive/pd thesis/Voice Dataset PD/Control_Ahh/test_control/*.wav\",\"processed_results_control_test.csv\")\n",
        "create_voice_df_control(\"/content/drive/MyDrive/pd thesis/Voice Dataset PD/Control_Ahh/val_control/*.wav\",\"processed_results_control_val.csv\")"
      ]
    },
    {
      "cell_type": "code",
      "execution_count": null,
      "metadata": {
        "id": "sLX5lhKZ50iD"
      },
      "outputs": [],
      "source": [
        "df_pd_train = pd.read_csv('/content/processed_results_pd_train.csv')\n",
        "df_pd_test = pd.read_csv('/content/processed_results_pd_test.csv')\n",
        "df_pd_val = pd.read_csv('/content/processed_results_pd_val.csv')\n",
        "df_control_train = pd.read_csv('/content/processed_results_control_train.csv')\n",
        "df_control_test = pd.read_csv('/content/processed_results_control_test.csv')\n",
        "df_control_val = pd.read_csv('/content/processed_results_control_val.csv')"
      ]
    },
    {
      "cell_type": "code",
      "execution_count": null,
      "metadata": {
        "id": "3HlQLYx01drD"
      },
      "outputs": [],
      "source": [
        "# add distribution plot"
      ]
    },
    {
      "cell_type": "code",
      "execution_count": null,
      "metadata": {
        "colab": {
          "base_uri": "https://localhost:8080/"
        },
        "id": "XM0lO_oC6zdJ",
        "outputId": "dc09689a-b133-4761-dd07-84befcf00f57"
      },
      "outputs": [
        {
          "output_type": "stream",
          "name": "stdout",
          "text": [
            "(479, 17)\n",
            "(154, 17)\n",
            "(124, 17)\n",
            "(321, 17)\n",
            "(101, 17)\n",
            "(81, 17)\n"
          ]
        }
      ],
      "source": [
        "print(df_pd_train.shape)\n",
        "print(df_pd_test.shape)\n",
        "print(df_pd_val.shape)\n",
        "print(df_control_train.shape)\n",
        "print(df_control_test.shape)\n",
        "print(df_control_val.shape)"
      ]
    },
    {
      "cell_type": "code",
      "execution_count": null,
      "metadata": {
        "id": "gZmk8RhU-yW_"
      },
      "outputs": [],
      "source": [
        "df_train = pd.concat([df_pd_train, df_control_train])\n",
        "df_test = pd.concat([df_pd_test, df_control_test])\n",
        "df_val = pd.concat([df_pd_val, df_control_val])"
      ]
    },
    {
      "cell_type": "code",
      "execution_count": null,
      "metadata": {
        "id": "e72uj610GOdn"
      },
      "outputs": [],
      "source": [
        "df_train = df_train.dropna(axis=0)\n",
        "df_test = df_test.dropna(axis=0)\n",
        "df_val = df_val.dropna(axis=0)"
      ]
    },
    {
      "cell_type": "code",
      "execution_count": null,
      "metadata": {
        "colab": {
          "base_uri": "https://localhost:8080/"
        },
        "id": "YmP6CbEeGtt4",
        "outputId": "7ffe3780-dde9-4482-a675-754af9c7cf07"
      },
      "outputs": [
        {
          "output_type": "execute_result",
          "data": {
            "text/plain": [
              "(800, 17)"
            ]
          },
          "metadata": {},
          "execution_count": 13
        }
      ],
      "source": [
        "df_train.shape"
      ]
    },
    {
      "cell_type": "code",
      "execution_count": null,
      "metadata": {
        "colab": {
          "base_uri": "https://localhost:8080/"
        },
        "id": "EVxmiWK9GwDV",
        "outputId": "5c01e18e-0557-4afe-b9b4-b0caca6bea30"
      },
      "outputs": [
        {
          "output_type": "execute_result",
          "data": {
            "text/plain": [
              "(255, 17)"
            ]
          },
          "metadata": {},
          "execution_count": 14
        }
      ],
      "source": [
        "df_test.shape"
      ]
    },
    {
      "cell_type": "code",
      "execution_count": null,
      "metadata": {
        "colab": {
          "base_uri": "https://localhost:8080/"
        },
        "id": "MYWKMHMPIZSA",
        "outputId": "6102938a-e357-4ab9-f78f-0e8bfd4b24fa"
      },
      "outputs": [
        {
          "output_type": "execute_result",
          "data": {
            "text/plain": [
              "(205, 17)"
            ]
          },
          "metadata": {},
          "execution_count": 15
        }
      ],
      "source": [
        "df_val.shape"
      ]
    },
    {
      "cell_type": "code",
      "source": [
        "df_all = pd.concat([df_train, df_test, df_val])"
      ],
      "metadata": {
        "id": "Xy8tQf_CkobK"
      },
      "execution_count": null,
      "outputs": []
    },
    {
      "cell_type": "code",
      "source": [
        "df_all.shape"
      ],
      "metadata": {
        "colab": {
          "base_uri": "https://localhost:8080/"
        },
        "id": "RY28a6pPkvMR",
        "outputId": "689dddbf-221a-41d7-8000-eb44b1199c9e"
      },
      "execution_count": null,
      "outputs": [
        {
          "output_type": "execute_result",
          "data": {
            "text/plain": [
              "(1260, 17)"
            ]
          },
          "metadata": {},
          "execution_count": 18
        }
      ]
    },
    {
      "cell_type": "code",
      "source": [
        "df_all.head(5)"
      ],
      "metadata": {
        "colab": {
          "base_uri": "https://localhost:8080/",
          "height": 270
        },
        "id": "WvUISpZunF-q",
        "outputId": "43776508-428a-40e8-e9b2-a8b8fc36fad4"
      },
      "execution_count": null,
      "outputs": [
        {
          "output_type": "execute_result",
          "data": {
            "text/plain": [
              "   class    meanF0Hz  stdevF0Hz        HNR  localJitter  localabsoluteJitter  \\\n",
              "0    1.0  189.088916   3.990279  13.466446     0.006928             0.000037   \n",
              "1    1.0  188.796500  31.434496  10.491261     0.017505             0.000093   \n",
              "2    1.0   96.844896   2.503975   9.899803     0.005324             0.000055   \n",
              "3    1.0  208.303922   5.064979  14.500400     0.004067             0.000020   \n",
              "4    1.0  176.888144  45.494505   7.977118     0.021342             0.000121   \n",
              "\n",
              "   rapJitter  ppq5Jitter  ddpJitter  localShimmer  localdbShimmer  \\\n",
              "0   0.003832    0.003358   0.011497      0.065623        0.616980   \n",
              "1   0.010276    0.010198   0.030828      0.156068        1.491076   \n",
              "2   0.001792    0.003289   0.005376      0.092861        0.831764   \n",
              "3   0.001952    0.002136   0.005855      0.062181        0.586280   \n",
              "4   0.011068    0.010703   0.033204      0.166758        1.476880   \n",
              "\n",
              "   apq3Shimmer  apq5Shimmer  apq11Shimmer  ddaShimmer  JitterPCA  ShimmerPCA  \n",
              "0     0.030216     0.041237      0.063723    0.090649  -1.195954    0.667658  \n",
              "1     0.087692     0.089090      0.110107    0.263075   3.785803   -0.286111  \n",
              "2     0.044285     0.065870      0.094909    0.132856  -0.270264   -0.497295  \n",
              "3     0.029675     0.036710      0.066497    0.089025  -1.706200    0.236647  \n",
              "4     0.088192     0.099249      0.157150    0.264577   4.622162   -0.323187  "
            ],
            "text/html": [
              "\n",
              "  <div id=\"df-3abc11be-ca03-40ad-a228-5bc3be1554e6\">\n",
              "    <div class=\"colab-df-container\">\n",
              "      <div>\n",
              "<style scoped>\n",
              "    .dataframe tbody tr th:only-of-type {\n",
              "        vertical-align: middle;\n",
              "    }\n",
              "\n",
              "    .dataframe tbody tr th {\n",
              "        vertical-align: top;\n",
              "    }\n",
              "\n",
              "    .dataframe thead th {\n",
              "        text-align: right;\n",
              "    }\n",
              "</style>\n",
              "<table border=\"1\" class=\"dataframe\">\n",
              "  <thead>\n",
              "    <tr style=\"text-align: right;\">\n",
              "      <th></th>\n",
              "      <th>class</th>\n",
              "      <th>meanF0Hz</th>\n",
              "      <th>stdevF0Hz</th>\n",
              "      <th>HNR</th>\n",
              "      <th>localJitter</th>\n",
              "      <th>localabsoluteJitter</th>\n",
              "      <th>rapJitter</th>\n",
              "      <th>ppq5Jitter</th>\n",
              "      <th>ddpJitter</th>\n",
              "      <th>localShimmer</th>\n",
              "      <th>localdbShimmer</th>\n",
              "      <th>apq3Shimmer</th>\n",
              "      <th>apq5Shimmer</th>\n",
              "      <th>apq11Shimmer</th>\n",
              "      <th>ddaShimmer</th>\n",
              "      <th>JitterPCA</th>\n",
              "      <th>ShimmerPCA</th>\n",
              "    </tr>\n",
              "  </thead>\n",
              "  <tbody>\n",
              "    <tr>\n",
              "      <th>0</th>\n",
              "      <td>1.0</td>\n",
              "      <td>189.088916</td>\n",
              "      <td>3.990279</td>\n",
              "      <td>13.466446</td>\n",
              "      <td>0.006928</td>\n",
              "      <td>0.000037</td>\n",
              "      <td>0.003832</td>\n",
              "      <td>0.003358</td>\n",
              "      <td>0.011497</td>\n",
              "      <td>0.065623</td>\n",
              "      <td>0.616980</td>\n",
              "      <td>0.030216</td>\n",
              "      <td>0.041237</td>\n",
              "      <td>0.063723</td>\n",
              "      <td>0.090649</td>\n",
              "      <td>-1.195954</td>\n",
              "      <td>0.667658</td>\n",
              "    </tr>\n",
              "    <tr>\n",
              "      <th>1</th>\n",
              "      <td>1.0</td>\n",
              "      <td>188.796500</td>\n",
              "      <td>31.434496</td>\n",
              "      <td>10.491261</td>\n",
              "      <td>0.017505</td>\n",
              "      <td>0.000093</td>\n",
              "      <td>0.010276</td>\n",
              "      <td>0.010198</td>\n",
              "      <td>0.030828</td>\n",
              "      <td>0.156068</td>\n",
              "      <td>1.491076</td>\n",
              "      <td>0.087692</td>\n",
              "      <td>0.089090</td>\n",
              "      <td>0.110107</td>\n",
              "      <td>0.263075</td>\n",
              "      <td>3.785803</td>\n",
              "      <td>-0.286111</td>\n",
              "    </tr>\n",
              "    <tr>\n",
              "      <th>2</th>\n",
              "      <td>1.0</td>\n",
              "      <td>96.844896</td>\n",
              "      <td>2.503975</td>\n",
              "      <td>9.899803</td>\n",
              "      <td>0.005324</td>\n",
              "      <td>0.000055</td>\n",
              "      <td>0.001792</td>\n",
              "      <td>0.003289</td>\n",
              "      <td>0.005376</td>\n",
              "      <td>0.092861</td>\n",
              "      <td>0.831764</td>\n",
              "      <td>0.044285</td>\n",
              "      <td>0.065870</td>\n",
              "      <td>0.094909</td>\n",
              "      <td>0.132856</td>\n",
              "      <td>-0.270264</td>\n",
              "      <td>-0.497295</td>\n",
              "    </tr>\n",
              "    <tr>\n",
              "      <th>3</th>\n",
              "      <td>1.0</td>\n",
              "      <td>208.303922</td>\n",
              "      <td>5.064979</td>\n",
              "      <td>14.500400</td>\n",
              "      <td>0.004067</td>\n",
              "      <td>0.000020</td>\n",
              "      <td>0.001952</td>\n",
              "      <td>0.002136</td>\n",
              "      <td>0.005855</td>\n",
              "      <td>0.062181</td>\n",
              "      <td>0.586280</td>\n",
              "      <td>0.029675</td>\n",
              "      <td>0.036710</td>\n",
              "      <td>0.066497</td>\n",
              "      <td>0.089025</td>\n",
              "      <td>-1.706200</td>\n",
              "      <td>0.236647</td>\n",
              "    </tr>\n",
              "    <tr>\n",
              "      <th>4</th>\n",
              "      <td>1.0</td>\n",
              "      <td>176.888144</td>\n",
              "      <td>45.494505</td>\n",
              "      <td>7.977118</td>\n",
              "      <td>0.021342</td>\n",
              "      <td>0.000121</td>\n",
              "      <td>0.011068</td>\n",
              "      <td>0.010703</td>\n",
              "      <td>0.033204</td>\n",
              "      <td>0.166758</td>\n",
              "      <td>1.476880</td>\n",
              "      <td>0.088192</td>\n",
              "      <td>0.099249</td>\n",
              "      <td>0.157150</td>\n",
              "      <td>0.264577</td>\n",
              "      <td>4.622162</td>\n",
              "      <td>-0.323187</td>\n",
              "    </tr>\n",
              "  </tbody>\n",
              "</table>\n",
              "</div>\n",
              "      <button class=\"colab-df-convert\" onclick=\"convertToInteractive('df-3abc11be-ca03-40ad-a228-5bc3be1554e6')\"\n",
              "              title=\"Convert this dataframe to an interactive table.\"\n",
              "              style=\"display:none;\">\n",
              "        \n",
              "  <svg xmlns=\"http://www.w3.org/2000/svg\" height=\"24px\"viewBox=\"0 0 24 24\"\n",
              "       width=\"24px\">\n",
              "    <path d=\"M0 0h24v24H0V0z\" fill=\"none\"/>\n",
              "    <path d=\"M18.56 5.44l.94 2.06.94-2.06 2.06-.94-2.06-.94-.94-2.06-.94 2.06-2.06.94zm-11 1L8.5 8.5l.94-2.06 2.06-.94-2.06-.94L8.5 2.5l-.94 2.06-2.06.94zm10 10l.94 2.06.94-2.06 2.06-.94-2.06-.94-.94-2.06-.94 2.06-2.06.94z\"/><path d=\"M17.41 7.96l-1.37-1.37c-.4-.4-.92-.59-1.43-.59-.52 0-1.04.2-1.43.59L10.3 9.45l-7.72 7.72c-.78.78-.78 2.05 0 2.83L4 21.41c.39.39.9.59 1.41.59.51 0 1.02-.2 1.41-.59l7.78-7.78 2.81-2.81c.8-.78.8-2.07 0-2.86zM5.41 20L4 18.59l7.72-7.72 1.47 1.35L5.41 20z\"/>\n",
              "  </svg>\n",
              "      </button>\n",
              "      \n",
              "  <style>\n",
              "    .colab-df-container {\n",
              "      display:flex;\n",
              "      flex-wrap:wrap;\n",
              "      gap: 12px;\n",
              "    }\n",
              "\n",
              "    .colab-df-convert {\n",
              "      background-color: #E8F0FE;\n",
              "      border: none;\n",
              "      border-radius: 50%;\n",
              "      cursor: pointer;\n",
              "      display: none;\n",
              "      fill: #1967D2;\n",
              "      height: 32px;\n",
              "      padding: 0 0 0 0;\n",
              "      width: 32px;\n",
              "    }\n",
              "\n",
              "    .colab-df-convert:hover {\n",
              "      background-color: #E2EBFA;\n",
              "      box-shadow: 0px 1px 2px rgba(60, 64, 67, 0.3), 0px 1px 3px 1px rgba(60, 64, 67, 0.15);\n",
              "      fill: #174EA6;\n",
              "    }\n",
              "\n",
              "    [theme=dark] .colab-df-convert {\n",
              "      background-color: #3B4455;\n",
              "      fill: #D2E3FC;\n",
              "    }\n",
              "\n",
              "    [theme=dark] .colab-df-convert:hover {\n",
              "      background-color: #434B5C;\n",
              "      box-shadow: 0px 1px 3px 1px rgba(0, 0, 0, 0.15);\n",
              "      filter: drop-shadow(0px 1px 2px rgba(0, 0, 0, 0.3));\n",
              "      fill: #FFFFFF;\n",
              "    }\n",
              "  </style>\n",
              "\n",
              "      <script>\n",
              "        const buttonEl =\n",
              "          document.querySelector('#df-3abc11be-ca03-40ad-a228-5bc3be1554e6 button.colab-df-convert');\n",
              "        buttonEl.style.display =\n",
              "          google.colab.kernel.accessAllowed ? 'block' : 'none';\n",
              "\n",
              "        async function convertToInteractive(key) {\n",
              "          const element = document.querySelector('#df-3abc11be-ca03-40ad-a228-5bc3be1554e6');\n",
              "          const dataTable =\n",
              "            await google.colab.kernel.invokeFunction('convertToInteractive',\n",
              "                                                     [key], {});\n",
              "          if (!dataTable) return;\n",
              "\n",
              "          const docLinkHtml = 'Like what you see? Visit the ' +\n",
              "            '<a target=\"_blank\" href=https://colab.research.google.com/notebooks/data_table.ipynb>data table notebook</a>'\n",
              "            + ' to learn more about interactive tables.';\n",
              "          element.innerHTML = '';\n",
              "          dataTable['output_type'] = 'display_data';\n",
              "          await google.colab.output.renderOutput(dataTable, element);\n",
              "          const docLink = document.createElement('div');\n",
              "          docLink.innerHTML = docLinkHtml;\n",
              "          element.appendChild(docLink);\n",
              "        }\n",
              "      </script>\n",
              "    </div>\n",
              "  </div>\n",
              "  "
            ]
          },
          "metadata": {},
          "execution_count": 28
        }
      ]
    },
    {
      "cell_type": "code",
      "source": [
        "ax2 = df_all[df_all['class'] == 1].plot(kind='scatter', x = 'meanF0Hz',y = 'stdevF0Hz', color = 'Red', marker = '.', label = 'PD Positive');\n",
        "df_all[df_all['class']==0].plot(kind='scatter', x = 'meanF0Hz',y = 'stdevF0Hz', color = 'DarkBlue', marker = '.', label = 'Control subject', ax = ax2);\n",
        "plt.show()"
      ],
      "metadata": {
        "colab": {
          "base_uri": "https://localhost:8080/",
          "height": 280
        },
        "id": "ev3i-E3ymiQB",
        "outputId": "6bd237eb-e58f-4b81-a4fb-b2aca35c32d0"
      },
      "execution_count": null,
      "outputs": [
        {
          "output_type": "display_data",
          "data": {
            "text/plain": [
              "<Figure size 432x288 with 1 Axes>"
            ],
            "image/png": "[encoded data removed]"
          },
          "metadata": {
            "needs_background": "light"
          }
        }
      ]
    },
    {
      "cell_type": "code",
      "source": [
        "import matplotlib.pyplot as plt\n",
        "\n",
        "df_all[df_all['class'] == 1].plot(kind='scatter', x = 'JitterPCA',y = 'ShimmerPCA', color = 'Red', marker = '.', label = 'PD Positive');\n",
        "df_all[df_all['class']==0].plot(kind='scatter', x = 'JitterPCA',y = 'ShimmerPCA', color = 'DarkBlue', marker = '.', label = 'Control subject', ax = ax);\n",
        "plt.show()"
      ],
      "metadata": {
        "colab": {
          "base_uri": "https://localhost:8080/",
          "height": 279
        },
        "id": "1NQC4e_ak8z5",
        "outputId": "c557fa8d-e00c-40a6-e1d7-0a56495fda88"
      },
      "execution_count": null,
      "outputs": [
        {
          "output_type": "display_data",
          "data": {
            "text/plain": [
              "<Figure size 432x288 with 1 Axes>"
            ],
            "image/png": "[encoded data removed]"
          },
          "metadata": {
            "needs_background": "light"
          }
        }
      ]
    },
    {
      "cell_type": "code",
      "source": [
        "threedee = plt.figure().gca(projection='3d')\n",
        "threedee.scatter(df_all['HNR'], df_all['JitterPCA'], df_all['ShimmerPCA'])\n",
        "threedee.set_xlabel('HNR')\n",
        "threedee.set_ylabel('JitterPCA')\n",
        "threedee.set_zlabel('ShimmerPCA')\n",
        "plt.show()"
      ],
      "metadata": {
        "colab": {
          "base_uri": "https://localhost:8080/",
          "height": 248
        },
        "id": "PvSjO1HauGWg",
        "outputId": "bc063d5c-df8a-4cba-a774-3009f10684d1"
      },
      "execution_count": null,
      "outputs": [
        {
          "output_type": "display_data",
          "data": {
            "text/plain": [
              "<Figure size 432x288 with 1 Axes>"
            ],
            "image/png": "[encoded data removed]"
          },
          "metadata": {
            "needs_background": "light"
          }
        }
      ]
    },
    {
      "cell_type": "code",
      "execution_count": null,
      "metadata": {
        "id": "9ut5OiP5ASx4"
      },
      "outputs": [],
      "source": [
        "x_train = df_train.drop(['class','meanF0Hz','stdevF0Hz'],axis=1)\n",
        "y_train = df_train['class']"
      ]
    },
    {
      "cell_type": "code",
      "execution_count": null,
      "metadata": {
        "id": "RiUXfmfCBGag"
      },
      "outputs": [],
      "source": [
        "x_test = df_test.drop(['class','meanF0Hz','stdevF0Hz'], axis=1)\n",
        "y_test = df_test['class']"
      ]
    },
    {
      "cell_type": "code",
      "execution_count": null,
      "metadata": {
        "id": "JevpUnECBbex"
      },
      "outputs": [],
      "source": [
        "x_val = df_val.drop(['class','meanF0Hz','stdevF0Hz'], axis=1)\n",
        "y_val = df_val['class']"
      ]
    },
    {
      "cell_type": "code",
      "execution_count": null,
      "metadata": {
        "colab": {
          "base_uri": "https://localhost:8080/"
        },
        "id": "97G2vIaoAWo4",
        "outputId": "b8f9bb85-0545-4078-d475-ecd5e49620c1"
      },
      "outputs": [
        {
          "output_type": "execute_result",
          "data": {
            "text/plain": [
              "         HNR  localJitter  localabsoluteJitter  rapJitter  ppq5Jitter  \\\n",
              "0  13.466446     0.006928             0.000037   0.003832    0.003358   \n",
              "1  10.491261     0.017505             0.000093   0.010276    0.010198   \n",
              "2   9.899803     0.005324             0.000055   0.001792    0.003289   \n",
              "3  14.500400     0.004067             0.000020   0.001952    0.002136   \n",
              "4   7.977118     0.021342             0.000121   0.011068    0.010703   \n",
              "\n",
              "   ddpJitter  localShimmer  localdbShimmer  apq3Shimmer  apq5Shimmer  \\\n",
              "0   0.011497      0.065623        0.616980     0.030216     0.041237   \n",
              "1   0.030828      0.156068        1.491076     0.087692     0.089090   \n",
              "2   0.005376      0.092861        0.831764     0.044285     0.065870   \n",
              "3   0.005855      0.062181        0.586280     0.029675     0.036710   \n",
              "4   0.033204      0.166758        1.476880     0.088192     0.099249   \n",
              "\n",
              "   apq11Shimmer  ddaShimmer  JitterPCA  ShimmerPCA  \n",
              "0      0.063723    0.090649  -1.195954    0.667658  \n",
              "1      0.110107    0.263075   3.785803   -0.286111  \n",
              "2      0.094909    0.132856  -0.270264   -0.497295  \n",
              "3      0.066497    0.089025  -1.706200    0.236647  \n",
              "4      0.157150    0.264577   4.622162   -0.323187  "
            ],
            "text/html": [
              "\n",
              "  <div id=\"df-68cd3554-5eff-4906-97ed-6a3fc8d174bc\">\n",
              "    <div class=\"colab-df-container\">\n",
              "      <div>\n",
              "<style scoped>\n",
              "    .dataframe tbody tr th:only-of-type {\n",
              "        vertical-align: middle;\n",
              "    }\n",
              "\n",
              "    .dataframe tbody tr th {\n",
              "        vertical-align: top;\n",
              "    }\n",
              "\n",
              "    .dataframe thead th {\n",
              "        text-align: right;\n",
              "    }\n",
              "</style>\n",
              "<table border=\"1\" class=\"dataframe\">\n",
              "  <thead>\n",
              "    <tr style=\"text-align: right;\">\n",
              "      <th></th>\n",
              "      <th>HNR</th>\n",
              "      <th>localJitter</th>\n",
              "      <th>localabsoluteJitter</th>\n",
              "      <th>rapJitter</th>\n",
              "      <th>ppq5Jitter</th>\n",
              "      <th>ddpJitter</th>\n",
              "      <th>localShimmer</th>\n",
              "      <th>localdbShimmer</th>\n",
              "      <th>apq3Shimmer</th>\n",
              "      <th>apq5Shimmer</th>\n",
              "      <th>apq11Shimmer</th>\n",
              "      <th>ddaShimmer</th>\n",
              "      <th>JitterPCA</th>\n",
              "      <th>ShimmerPCA</th>\n",
              "    </tr>\n",
              "  </thead>\n",
              "  <tbody>\n",
              "    <tr>\n",
              "      <th>0</th>\n",
              "      <td>13.466446</td>\n",
              "      <td>0.006928</td>\n",
              "      <td>0.000037</td>\n",
              "      <td>0.003832</td>\n",
              "      <td>0.003358</td>\n",
              "      <td>0.011497</td>\n",
              "      <td>0.065623</td>\n",
              "      <td>0.616980</td>\n",
              "      <td>0.030216</td>\n",
              "      <td>0.041237</td>\n",
              "      <td>0.063723</td>\n",
              "      <td>0.090649</td>\n",
              "      <td>-1.195954</td>\n",
              "      <td>0.667658</td>\n",
              "    </tr>\n",
              "    <tr>\n",
              "      <th>1</th>\n",
              "      <td>10.491261</td>\n",
              "      <td>0.017505</td>\n",
              "      <td>0.000093</td>\n",
              "      <td>0.010276</td>\n",
              "      <td>0.010198</td>\n",
              "      <td>0.030828</td>\n",
              "      <td>0.156068</td>\n",
              "      <td>1.491076</td>\n",
              "      <td>0.087692</td>\n",
              "      <td>0.089090</td>\n",
              "      <td>0.110107</td>\n",
              "      <td>0.263075</td>\n",
              "      <td>3.785803</td>\n",
              "      <td>-0.286111</td>\n",
              "    </tr>\n",
              "    <tr>\n",
              "      <th>2</th>\n",
              "      <td>9.899803</td>\n",
              "      <td>0.005324</td>\n",
              "      <td>0.000055</td>\n",
              "      <td>0.001792</td>\n",
              "      <td>0.003289</td>\n",
              "      <td>0.005376</td>\n",
              "      <td>0.092861</td>\n",
              "      <td>0.831764</td>\n",
              "      <td>0.044285</td>\n",
              "      <td>0.065870</td>\n",
              "      <td>0.094909</td>\n",
              "      <td>0.132856</td>\n",
              "      <td>-0.270264</td>\n",
              "      <td>-0.497295</td>\n",
              "    </tr>\n",
              "    <tr>\n",
              "      <th>3</th>\n",
              "      <td>14.500400</td>\n",
              "      <td>0.004067</td>\n",
              "      <td>0.000020</td>\n",
              "      <td>0.001952</td>\n",
              "      <td>0.002136</td>\n",
              "      <td>0.005855</td>\n",
              "      <td>0.062181</td>\n",
              "      <td>0.586280</td>\n",
              "      <td>0.029675</td>\n",
              "      <td>0.036710</td>\n",
              "      <td>0.066497</td>\n",
              "      <td>0.089025</td>\n",
              "      <td>-1.706200</td>\n",
              "      <td>0.236647</td>\n",
              "    </tr>\n",
              "    <tr>\n",
              "      <th>4</th>\n",
              "      <td>7.977118</td>\n",
              "      <td>0.021342</td>\n",
              "      <td>0.000121</td>\n",
              "      <td>0.011068</td>\n",
              "      <td>0.010703</td>\n",
              "      <td>0.033204</td>\n",
              "      <td>0.166758</td>\n",
              "      <td>1.476880</td>\n",
              "      <td>0.088192</td>\n",
              "      <td>0.099249</td>\n",
              "      <td>0.157150</td>\n",
              "      <td>0.264577</td>\n",
              "      <td>4.622162</td>\n",
              "      <td>-0.323187</td>\n",
              "    </tr>\n",
              "  </tbody>\n",
              "</table>\n",
              "</div>\n",
              "      <button class=\"colab-df-convert\" onclick=\"convertToInteractive('df-68cd3554-5eff-4906-97ed-6a3fc8d174bc')\"\n",
              "              title=\"Convert this dataframe to an interactive table.\"\n",
              "              style=\"display:none;\">\n",
              "        \n",
              "  <svg xmlns=\"http://www.w3.org/2000/svg\" height=\"24px\"viewBox=\"0 0 24 24\"\n",
              "       width=\"24px\">\n",
              "    <path d=\"M0 0h24v24H0V0z\" fill=\"none\"/>\n",
              "    <path d=\"M18.56 5.44l.94 2.06.94-2.06 2.06-.94-2.06-.94-.94-2.06-.94 2.06-2.06.94zm-11 1L8.5 8.5l.94-2.06 2.06-.94-2.06-.94L8.5 2.5l-.94 2.06-2.06.94zm10 10l.94 2.06.94-2.06 2.06-.94-2.06-.94-.94-2.06-.94 2.06-2.06.94z\"/><path d=\"M17.41 7.96l-1.37-1.37c-.4-.4-.92-.59-1.43-.59-.52 0-1.04.2-1.43.59L10.3 9.45l-7.72 7.72c-.78.78-.78 2.05 0 2.83L4 21.41c.39.39.9.59 1.41.59.51 0 1.02-.2 1.41-.59l7.78-7.78 2.81-2.81c.8-.78.8-2.07 0-2.86zM5.41 20L4 18.59l7.72-7.72 1.47 1.35L5.41 20z\"/>\n",
              "  </svg>\n",
              "      </button>\n",
              "      \n",
              "  <style>\n",
              "    .colab-df-container {\n",
              "      display:flex;\n",
              "      flex-wrap:wrap;\n",
              "      gap: 12px;\n",
              "    }\n",
              "\n",
              "    .colab-df-convert {\n",
              "      background-color: #E8F0FE;\n",
              "      border: none;\n",
              "      border-radius: 50%;\n",
              "      cursor: pointer;\n",
              "      display: none;\n",
              "      fill: #1967D2;\n",
              "      height: 32px;\n",
              "      padding: 0 0 0 0;\n",
              "      width: 32px;\n",
              "    }\n",
              "\n",
              "    .colab-df-convert:hover {\n",
              "      background-color: #E2EBFA;\n",
              "      box-shadow: 0px 1px 2px rgba(60, 64, 67, 0.3), 0px 1px 3px 1px rgba(60, 64, 67, 0.15);\n",
              "      fill: #174EA6;\n",
              "    }\n",
              "\n",
              "    [theme=dark] .colab-df-convert {\n",
              "      background-color: #3B4455;\n",
              "      fill: #D2E3FC;\n",
              "    }\n",
              "\n",
              "    [theme=dark] .colab-df-convert:hover {\n",
              "      background-color: #434B5C;\n",
              "      box-shadow: 0px 1px 3px 1px rgba(0, 0, 0, 0.15);\n",
              "      filter: drop-shadow(0px 1px 2px rgba(0, 0, 0, 0.3));\n",
              "      fill: #FFFFFF;\n",
              "    }\n",
              "  </style>\n",
              "\n",
              "      <script>\n",
              "        const buttonEl =\n",
              "          document.querySelector('#df-68cd3554-5eff-4906-97ed-6a3fc8d174bc button.colab-df-convert');\n",
              "        buttonEl.style.display =\n",
              "          google.colab.kernel.accessAllowed ? 'block' : 'none';\n",
              "\n",
              "        async function convertToInteractive(key) {\n",
              "          const element = document.querySelector('#df-68cd3554-5eff-4906-97ed-6a3fc8d174bc');\n",
              "          const dataTable =\n",
              "            await google.colab.kernel.invokeFunction('convertToInteractive',\n",
              "                                                     [key], {});\n",
              "          if (!dataTable) return;\n",
              "\n",
              "          const docLinkHtml = 'Like what you see? Visit the ' +\n",
              "            '<a target=\"_blank\" href=https://colab.research.google.com/notebooks/data_table.ipynb>data table notebook</a>'\n",
              "            + ' to learn more about interactive tables.';\n",
              "          element.innerHTML = '';\n",
              "          dataTable['output_type'] = 'display_data';\n",
              "          await google.colab.output.renderOutput(dataTable, element);\n",
              "          const docLink = document.createElement('div');\n",
              "          docLink.innerHTML = docLinkHtml;\n",
              "          element.appendChild(docLink);\n",
              "        }\n",
              "      </script>\n",
              "    </div>\n",
              "  </div>\n",
              "  "
            ]
          },
          "metadata": {},
          "execution_count": 57
        }
      ],
      "source": [
        "x_train.head(5)"
      ]
    },
    {
      "cell_type": "markdown",
      "metadata": {
        "id": "0bx-t7MJBnc4"
      },
      "source": [
        "# SVM Time"
      ]
    },
    {
      "cell_type": "code",
      "execution_count": null,
      "metadata": {
        "id": "cvIn6w_hBnGZ"
      },
      "outputs": [],
      "source": [
        "from sklearn import svm"
      ]
    },
    {
      "cell_type": "code",
      "execution_count": null,
      "metadata": {
        "colab": {
          "base_uri": "https://localhost:8080/"
        },
        "id": "WDJ3v3YmBsav",
        "outputId": "64d6f299-9fe4-4624-e84b-11876894a57f"
      },
      "outputs": [
        {
          "output_type": "execute_result",
          "data": {
            "text/plain": [
              "SVC()"
            ]
          },
          "metadata": {},
          "execution_count": 59
        }
      ],
      "source": [
        "clf = svm.SVC()\n",
        "clf.fit(x_train,y_train)"
      ]
    },
    {
      "cell_type": "code",
      "execution_count": null,
      "metadata": {
        "id": "zNMDO-e4KNTG"
      },
      "outputs": [],
      "source": [
        "yhat = clf.predict(x_val)"
      ]
    },
    {
      "cell_type": "code",
      "execution_count": null,
      "metadata": {
        "id": "RHoYanLXNnge"
      },
      "outputs": [],
      "source": [
        "import itertools\n",
        "\n",
        "def plot_confusion_matrix(cm, classes,\n",
        "                          normalize=False,\n",
        "                          title='Confusion matrix',\n",
        "                          cmap=plt.cm.Blues):\n",
        "    \"\"\"\n",
        "    This function prints and plots the confusion matrix.\n",
        "    Normalization can be applied by setting `normalize=True`.\n",
        "    \"\"\"\n",
        "    if normalize:\n",
        "        cm = cm.astype('float') / cm.sum(axis=1)[:, np.newaxis]\n",
        "        print(\"Normalized confusion matrix\")\n",
        "    else:\n",
        "        print('Confusion matrix, without normalization')\n",
        "\n",
        "    print(cm)\n",
        "\n",
        "    plt.imshow(cm, interpolation='nearest', cmap=cmap)\n",
        "    plt.title(title)\n",
        "    plt.colorbar()\n",
        "    tick_marks = np.arange(len(classes))\n",
        "    plt.xticks(tick_marks, classes, rotation=45)\n",
        "    plt.yticks(tick_marks, classes)\n",
        "\n",
        "    fmt = '.2f' if normalize else 'd'\n",
        "    thresh = cm.max() / 2.\n",
        "    for i, j in itertools.product(range(cm.shape[0]), range(cm.shape[1])):\n",
        "        plt.text(j, i, format(cm[i, j], fmt),\n",
        "                 horizontalalignment=\"center\",\n",
        "                 color=\"white\" if cm[i, j] > thresh else \"black\")\n",
        "\n",
        "    plt.tight_layout()\n",
        "    plt.ylabel('True label')\n",
        "    plt.xlabel('Predicted label')"
      ]
    },
    {
      "cell_type": "code",
      "execution_count": null,
      "metadata": {
        "colab": {
          "base_uri": "https://localhost:8080/"
        },
        "id": "mmL672D6KSM0",
        "outputId": "e7b4f285-0b6e-4f22-d383-3f5a5f81e574"
      },
      "outputs": [
        {
          "output_type": "stream",
          "name": "stdout",
          "text": [
            "[[  0  81]\n",
            " [  0 124]]\n",
            "              precision    recall  f1-score   support\n",
            "\n",
            "         0.0       0.00      0.00      0.00        81\n",
            "         1.0       0.60      1.00      0.75       124\n",
            "\n",
            "    accuracy                           0.60       205\n",
            "   macro avg       0.30      0.50      0.38       205\n",
            "weighted avg       0.37      0.60      0.46       205\n",
            "\n"
          ]
        },
        {
          "output_type": "stream",
          "name": "stderr",
          "text": [
            "/usr/local/lib/python3.7/dist-packages/sklearn/metrics/_classification.py:1318: UndefinedMetricWarning: Precision and F-score are ill-defined and being set to 0.0 in labels with no predicted samples. Use `zero_division` parameter to control this behavior.\n",
            "  _warn_prf(average, modifier, msg_start, len(result))\n",
            "/usr/local/lib/python3.7/dist-packages/sklearn/metrics/_classification.py:1318: UndefinedMetricWarning: Precision and F-score are ill-defined and being set to 0.0 in labels with no predicted samples. Use `zero_division` parameter to control this behavior.\n",
            "  _warn_prf(average, modifier, msg_start, len(result))\n",
            "/usr/local/lib/python3.7/dist-packages/sklearn/metrics/_classification.py:1318: UndefinedMetricWarning: Precision and F-score are ill-defined and being set to 0.0 in labels with no predicted samples. Use `zero_division` parameter to control this behavior.\n",
            "  _warn_prf(average, modifier, msg_start, len(result))\n"
          ]
        }
      ],
      "source": [
        "from sklearn.metrics import classification_report, confusion_matrix\n",
        "cfmx = confusion_matrix(y_val,yhat)\n",
        "print(cfmx)\n",
        "print(classification_report(y_val,yhat))"
      ]
    },
    {
      "cell_type": "code",
      "execution_count": null,
      "metadata": {
        "colab": {
          "base_uri": "https://localhost:8080/"
        },
        "id": "Af6Fxu4WNumL",
        "outputId": "a1ba2680-dbc9-491b-8a7c-3002ee29ea6a"
      },
      "outputs": [
        {
          "output_type": "stream",
          "name": "stdout",
          "text": [
            "Confusion matrix, without normalization\n",
            "[[  0  81]\n",
            " [  0 124]]\n"
          ]
        },
        {
          "output_type": "display_data",
          "data": {
            "text/plain": [
              "<Figure size 432x288 with 2 Axes>"
            ],
            "image/png": "[encoded data removed]"
          },
          "metadata": {
            "needs_background": "light"
          }
        }
      ],
      "source": [
        "plt.figure()\n",
        "plot_confusion_matrix(cfmx, classes = ['control','pd'])"
      ]
    },
    {
      "cell_type": "markdown",
      "metadata": {
        "id": "BU6XdQuHoM_S"
      },
      "source": [
        "#Fine-tuning parameters"
      ]
    },
    {
      "cell_type": "code",
      "execution_count": null,
      "metadata": {
        "id": "UuolXnlvq0mG"
      },
      "outputs": [],
      "source": [
        "#gamma = 'score'\n",
        "#C = 733000"
      ]
    },
    {
      "cell_type": "code",
      "source": [
        "C_range = 1000 + (2**np.arange(1,25))\n",
        "\n",
        "C_range"
      ],
      "metadata": {
        "colab": {
          "base_uri": "https://localhost:8080/"
        },
        "id": "PRLw1Bg-RSr6",
        "outputId": "90580fba-756b-430c-dad9-d1f149a57ed8"
      },
      "execution_count": null,
      "outputs": [
        {
          "output_type": "execute_result",
          "data": {
            "text/plain": [
              "array([    1002,     1004,     1008,     1016,     1032,     1064,\n",
              "           1128,     1256,     1512,     2024,     3048,     5096,\n",
              "           9192,    17384,    33768,    66536,   132072,   263144,\n",
              "         525288,  1049576,  2098152,  4195304,  8389608, 16778216])"
            ]
          },
          "metadata": {},
          "execution_count": 65
        }
      ]
    },
    {
      "cell_type": "code",
      "execution_count": null,
      "metadata": {
        "colab": {
          "base_uri": "https://localhost:8080/"
        },
        "id": "T60-u68fNhDL",
        "outputId": "b8292815-ed35-47d5-a08b-0034f8b6d931"
      },
      "outputs": [
        {
          "output_type": "stream",
          "name": "stdout",
          "text": [
            "Fitting 3 folds for each of 20 candidates, totalling 60 fits\n",
            "{'C': 230000}\n",
            "              precision    recall  f1-score   support\n",
            "\n",
            "         0.0       1.00      0.84      0.91        81\n",
            "         1.0       0.91      1.00      0.95       124\n",
            "\n",
            "    accuracy                           0.94       205\n",
            "   macro avg       0.95      0.92      0.93       205\n",
            "weighted avg       0.94      0.94      0.94       205\n",
            "\n"
          ]
        }
      ],
      "source": [
        "from sklearn.model_selection import GridSearchCV\n",
        "C_range = 230000 + (1000*np.arange(0,20))\n",
        "#C_range = 10. ** np.arange(-3,8)\n",
        "#C_range = 2000 + (10 * np.arange(1,200))\n",
        "#C_range = 2000 + (50 * np.arange(0,10))\n",
        "#gamma_range = (10**(-3)) * np.arange(1,100)\n",
        "#gamma_range = 10. ** np.arange(-5, 4)\n",
        "\n",
        "#for i in gamm_arr:\n",
        "  #gamma_range = np.append(gamma_range,i)\n",
        "\n",
        "#C = 701000\n",
        "\n",
        "#C = 10**5\n",
        "#gamma = 10**(-3)\n",
        "\n",
        "#param_grid = dict(gamma=gamma_range, C=C_range)\n",
        "param_grid = dict(C=C_range)\n",
        "#param_grid = {'C' : [1,10,100,1000,100000,100000]}\n",
        "#gamma_range = ['scale','auto']\n",
        "#param_grid = dict(gamma=gamma_range)\n",
        "\n",
        "#param_grid = {'gamma' : ['scale','auto']}\n",
        "\n",
        "grid_search = GridSearchCV(estimator = svm.SVC(probability=True),\n",
        "                           param_grid = param_grid,\n",
        "                           verbose = 3,\n",
        "                           cv = 3,\n",
        "                           n_jobs = -1)\n",
        "\n",
        "grid_search = grid_search.fit(x_train,y_train)\n",
        "\n",
        "# print best parameter after tuning \n",
        "print(grid_search.best_params_) \n",
        "grid_predictions = grid_search.predict(x_val) \n",
        "   \n",
        "# print classification report \n",
        "print(classification_report(y_val, grid_predictions)) \n"
      ]
    },
    {
      "cell_type": "code",
      "execution_count": null,
      "metadata": {
        "id": "w8qpnJK6o868",
        "colab": {
          "base_uri": "https://localhost:8080/",
          "height": 363
        },
        "outputId": "4ae8be20-8bbb-4418-9c93-29326a38f5e2"
      },
      "outputs": [
        {
          "output_type": "stream",
          "name": "stdout",
          "text": [
            "Confusion matrix, without normalization\n",
            "[[ 68  13]\n",
            " [  0 124]]\n"
          ]
        },
        {
          "output_type": "display_data",
          "data": {
            "text/plain": [
              "<Figure size 432x288 with 2 Axes>"
            ],
            "image/png": "[encoded data removed]"
          },
          "metadata": {
            "needs_background": "light"
          }
        }
      ],
      "source": [
        "cnf_gridCV = confusion_matrix(y_val, grid_predictions)\n",
        "\n",
        "plt.figure()\n",
        "plot_confusion_matrix(cnf_gridCV, classes = ['control','pd'])"
      ]
    },
    {
      "cell_type": "code",
      "execution_count": null,
      "metadata": {
        "id": "NNXvDdd31n_Z",
        "colab": {
          "base_uri": "https://localhost:8080/",
          "height": 295
        },
        "outputId": "69644196-1edd-4fbb-cc7d-0235b38838c5"
      },
      "outputs": [
        {
          "output_type": "display_data",
          "data": {
            "text/plain": [
              "<Figure size 432x288 with 1 Axes>"
            ],
            "image/png": "[encoded data removed]"
          },
          "metadata": {
            "needs_background": "light"
          }
        }
      ],
      "source": [
        "from sklearn import metrics\n",
        "# add roc curve\n",
        "y_val_prob = grid_search.predict_proba(x_val)\n",
        "\n",
        "preds_svm = y_val_prob[:,1]\n",
        "#preds_tree = y_tree_prob[:,1]\n",
        "fpr, tpr, threshold = metrics.roc_curve(y_val, preds_svm)\n",
        "roc_auc = metrics.auc(fpr, tpr)\n",
        "\n",
        "# method I: plt\n",
        "import matplotlib.pyplot as plt\n",
        "plt.title('Receiver Operating Characteristic')\n",
        "plt.plot(fpr, tpr, 'b', label = 'AUC = %0.2f' % roc_auc)\n",
        "plt.legend(loc = 'lower right')\n",
        "plt.plot([0, 1], [0, 1],'r--')\n",
        "plt.xlim([0, 1])\n",
        "plt.ylim([0, 1])\n",
        "plt.ylabel('True Positive Rate')\n",
        "plt.xlabel('False Positive Rate')\n",
        "plt.show()"
      ]
    },
    {
      "cell_type": "code",
      "source": [
        "y_test_predict = grid_search.predict(x_test)"
      ],
      "metadata": {
        "id": "XFmkQ9MpgDg7"
      },
      "execution_count": null,
      "outputs": []
    },
    {
      "cell_type": "code",
      "source": [
        "print(classification_report(y_test, y_test_predict)) "
      ],
      "metadata": {
        "id": "SXOnIaV7gTGW",
        "colab": {
          "base_uri": "https://localhost:8080/"
        },
        "outputId": "c2b71c07-27ba-494f-9db3-c09e8f4b2708"
      },
      "execution_count": null,
      "outputs": [
        {
          "output_type": "stream",
          "name": "stdout",
          "text": [
            "              precision    recall  f1-score   support\n",
            "\n",
            "         0.0       0.99      1.00      1.00       101\n",
            "         1.0       1.00      0.99      1.00       154\n",
            "\n",
            "    accuracy                           1.00       255\n",
            "   macro avg       1.00      1.00      1.00       255\n",
            "weighted avg       1.00      1.00      1.00       255\n",
            "\n"
          ]
        }
      ]
    },
    {
      "cell_type": "code",
      "source": [
        "cnf_test = confusion_matrix(y_test, y_test_predict)\n",
        "\n",
        "plt.figure()\n",
        "plot_confusion_matrix(cnf_test, classes = ['control','pd'])"
      ],
      "metadata": {
        "colab": {
          "base_uri": "https://localhost:8080/",
          "height": 363
        },
        "id": "4PwXsl8Xgbj7",
        "outputId": "9c6e36eb-21d7-4ad2-c68c-38b20f1cf0a8"
      },
      "execution_count": null,
      "outputs": [
        {
          "output_type": "stream",
          "name": "stdout",
          "text": [
            "Confusion matrix, without normalization\n",
            "[[101   0]\n",
            " [  1 153]]\n"
          ]
        },
        {
          "output_type": "display_data",
          "data": {
            "text/plain": [
              "<Figure size 432x288 with 2 Axes>"
            ],
            "image/png": "[encoded data removed]"
          },
          "metadata": {
            "needs_background": "light"
          }
        }
      ]
    },
    {
      "cell_type": "code",
      "source": [
        "y_test_prob = grid_search.predict_proba(x_test)\n",
        "\n",
        "preds_svm_test = y_test_prob[:,1]\n",
        "\n",
        "fpr_test, tpr_test, threshold_test = metrics.roc_curve(y_test, preds_svm_test)\n",
        "roc_auc_test = metrics.auc(fpr_test, tpr_test)\n",
        "\n",
        "\n",
        "plt.title('Receiver Operating Characteristic for test set')\n",
        "plt.plot(fpr_test, tpr_test, 'b', label = 'AUC = %0.2f' % roc_auc_test)\n",
        "plt.legend(loc = 'lower right')\n",
        "plt.plot([0, 1], [0, 1],'r--')\n",
        "plt.xlim([0, 1])\n",
        "plt.ylim([0, 1])\n",
        "plt.ylabel('True Positive Rate')\n",
        "plt.xlabel('False Positive Rate')\n",
        "plt.show()"
      ],
      "metadata": {
        "colab": {
          "base_uri": "https://localhost:8080/",
          "height": 295
        },
        "id": "uJfptVLpguif",
        "outputId": "8d15bcd8-e755-4c1e-8416-fd702e7afb86"
      },
      "execution_count": null,
      "outputs": [
        {
          "output_type": "display_data",
          "data": {
            "text/plain": [
              "<Figure size 432x288 with 1 Axes>"
            ],
            "image/png": "[encoded data removed]"
          },
          "metadata": {
            "needs_background": "light"
          }
        }
      ]
    }
  ],
  "metadata": {
    "colab": {
      "provenance": []
    },
    "kernelspec": {
      "display_name": "Python 3",
      "name": "python3"
    },
    "language_info": {
      "name": "python"
    }
  },
  "nbformat": 4,
  "nbformat_minor": 0
}